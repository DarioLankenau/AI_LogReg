{
  "nbformat": 4,
  "nbformat_minor": 0,
  "metadata": {
    "colab": {
      "provenance": [],
      "collapsed_sections": [],
      "authorship_tag": "ABX9TyPNaNmU/K4YhgeL+3LfCXFU",
      "include_colab_link": true
    },
    "kernelspec": {
      "name": "python3",
      "display_name": "Python 3"
    },
    "language_info": {
      "name": "python"
    }
  },
  "cells": [
    {
      "cell_type": "markdown",
      "metadata": {
        "id": "view-in-github",
        "colab_type": "text"
      },
      "source": [
        "<a href=\"https://colab.research.google.com/github/DarioLankenau/AI_LogReg/blob/main/2do_Entregable.ipynb\" target=\"_parent\"><img src=\"https://colab.research.google.com/assets/colab-badge.svg\" alt=\"Open In Colab\"/></a>"
      ]
    },
    {
      "cell_type": "markdown",
      "source": [
        "Dario Jauregui A00827837\n",
        "9/8/2022\n",
        "\n",
        "# Implementación de un clasificador con **Regresión logística** para predecir el sexo de zarigüeya.\n",
        "\n",
        "Del paquete DAAG R: \"El datatset de la zarigüeya consta de nueve medidas morfométricas en cada una de las 104 zarigüeyas cola de cepillo de montaña, atrapadas en siete sitios desde el sur de Victoria hasta el centro de Queensland\"."
      ],
      "metadata": {
        "id": "X5OC_oVE8avn"
      }
    },
    {
      "cell_type": "code",
      "execution_count": 58,
      "metadata": {
        "id": "xYTBa9gRvTrF",
        "colab": {
          "base_uri": "https://localhost:8080/"
        },
        "outputId": "f1e67ac4-0592-45df-ca88-ddd764db8a45"
      },
      "outputs": [
        {
          "output_type": "stream",
          "name": "stdout",
          "text": [
            "Looking in indexes: https://pypi.org/simple, https://us-python.pkg.dev/colab-wheels/public/simple/\n",
            "Requirement already satisfied: mlxtend in /usr/local/lib/python3.7/dist-packages (0.20.0)\n",
            "Requirement already satisfied: matplotlib>=3.0.0 in /usr/local/lib/python3.7/dist-packages (from mlxtend) (3.2.2)\n",
            "Requirement already satisfied: joblib>=0.13.2 in /usr/local/lib/python3.7/dist-packages (from mlxtend) (1.1.0)\n",
            "Requirement already satisfied: pandas>=0.24.2 in /usr/local/lib/python3.7/dist-packages (from mlxtend) (1.3.5)\n",
            "Requirement already satisfied: scipy>=1.2.1 in /usr/local/lib/python3.7/dist-packages (from mlxtend) (1.7.3)\n",
            "Requirement already satisfied: setuptools in /usr/local/lib/python3.7/dist-packages (from mlxtend) (57.4.0)\n",
            "Requirement already satisfied: numpy>=1.16.2 in /usr/local/lib/python3.7/dist-packages (from mlxtend) (1.21.6)\n",
            "Requirement already satisfied: scikit-learn>=1.0.2 in /usr/local/lib/python3.7/dist-packages (from mlxtend) (1.0.2)\n",
            "Requirement already satisfied: python-dateutil>=2.1 in /usr/local/lib/python3.7/dist-packages (from matplotlib>=3.0.0->mlxtend) (2.8.2)\n",
            "Requirement already satisfied: pyparsing!=2.0.4,!=2.1.2,!=2.1.6,>=2.0.1 in /usr/local/lib/python3.7/dist-packages (from matplotlib>=3.0.0->mlxtend) (3.0.9)\n",
            "Requirement already satisfied: cycler>=0.10 in /usr/local/lib/python3.7/dist-packages (from matplotlib>=3.0.0->mlxtend) (0.11.0)\n",
            "Requirement already satisfied: kiwisolver>=1.0.1 in /usr/local/lib/python3.7/dist-packages (from matplotlib>=3.0.0->mlxtend) (1.4.4)\n",
            "Requirement already satisfied: typing-extensions in /usr/local/lib/python3.7/dist-packages (from kiwisolver>=1.0.1->matplotlib>=3.0.0->mlxtend) (4.1.1)\n",
            "Requirement already satisfied: pytz>=2017.3 in /usr/local/lib/python3.7/dist-packages (from pandas>=0.24.2->mlxtend) (2022.2.1)\n",
            "Requirement already satisfied: six>=1.5 in /usr/local/lib/python3.7/dist-packages (from python-dateutil>=2.1->matplotlib>=3.0.0->mlxtend) (1.15.0)\n",
            "Requirement already satisfied: threadpoolctl>=2.0.0 in /usr/local/lib/python3.7/dist-packages (from scikit-learn>=1.0.2->mlxtend) (3.1.0)\n"
          ]
        }
      ],
      "source": [
        "import pandas as pd # importar libreria\n",
        "from google.colab import files\n",
        "import numpy as np\n",
        "from sklearn.model_selection import train_test_split\n",
        "from sklearn import preprocessing\n",
        "import seaborn as sns\n",
        "from sklearn import datasets\n",
        "import io\n",
        "import joblib\n",
        "import matplotlib.pyplot as plt\n",
        "%pip install mlxtend --upgrade\n"
      ]
    },
    {
      "cell_type": "code",
      "source": [
        "from sklearn.preprocessing import StandardScaler\n",
        "from sklearn.model_selection import train_test_split, GridSearchCV\n",
        "from sklearn.metrics import accuracy_score, classification_report, confusion_matrix\n",
        "from sklearn.preprocessing import StandardScaler, LabelEncoder\n",
        "from sklearn.linear_model import LogisticRegression\n",
        "from sklearn.model_selection import GridSearchCV, cross_val_score, StratifiedKFold, learning_curve\n",
        "from sklearn.datasets import make_classification\n",
        "from sklearn.metrics import plot_confusion_matrix\n",
        "from sklearn import metrics\n",
        "from sklearn.utils import shuffle\n",
        "from sklearn.metrics import mean_squared_error\n",
        "from mlxtend.evaluate import bias_variance_decomp\n",
        "from sklearn.metrics import roc_curve, roc_auc_score"
      ],
      "metadata": {
        "id": "SvNT2efy3Eb_"
      },
      "execution_count": 59,
      "outputs": []
    },
    {
      "cell_type": "markdown",
      "source": [
        "# Exploración de dataset"
      ],
      "metadata": {
        "id": "6da0U5j1_9jz"
      }
    },
    {
      "cell_type": "markdown",
      "source": [
        "Variables en el dataset y su significado:\n",
        "\n",
        "*   **case** : observation number.\n",
        "*   **site** : The site number where the possum was trapped.\n",
        "*   **Pop** : Population, either Vic (Victoria) or other (New South Wales or Queensland).\n",
        "*   **sex** : Gender, either m (male) or f (female).\n",
        "*   **age** : Age.\n",
        "*   **hdlngth** : Head length, in mm.\n",
        "*   **skullw** : Skull width, in mm.\n",
        "*   **totlngth** : Total length, in cm.\n",
        "*   **taill** : Tail length, in cm.\n",
        "*   **footlgth** : foot length.\n",
        "*   **earconch** : ear conch width.\n",
        "*   **eye** :  eye width.\n",
        "*   **chest** :  chest width.\n",
        "*   **belly** : belly width.\n",
        "\n",
        "\n"
      ],
      "metadata": {
        "id": "-AaXf0Ys3q_T"
      }
    },
    {
      "cell_type": "code",
      "source": [
        "df = pd.read_csv(\"possum.csv\")"
      ],
      "metadata": {
        "id": "yb5nmebNvqPQ"
      },
      "execution_count": 60,
      "outputs": []
    },
    {
      "cell_type": "code",
      "source": [
        "df.head()"
      ],
      "metadata": {
        "colab": {
          "base_uri": "https://localhost:8080/",
          "height": 206
        },
        "id": "dj0hiAaovvcM",
        "outputId": "a080d8e4-ecbf-4b17-97d4-37b6045d4efe"
      },
      "execution_count": 61,
      "outputs": [
        {
          "output_type": "execute_result",
          "data": {
            "text/plain": [
              "   case  site  Pop sex  age  hdlngth  skullw  totlngth  taill  footlgth  \\\n",
              "0     1     1  Vic   m  8.0     94.1    60.4      89.0   36.0      74.5   \n",
              "1     2     1  Vic   f  6.0     92.5    57.6      91.5   36.5      72.5   \n",
              "2     3     1  Vic   f  6.0     94.0    60.0      95.5   39.0      75.4   \n",
              "3     4     1  Vic   f  6.0     93.2    57.1      92.0   38.0      76.1   \n",
              "4     5     1  Vic   f  2.0     91.5    56.3      85.5   36.0      71.0   \n",
              "\n",
              "   earconch   eye  chest  belly  \n",
              "0      54.5  15.2   28.0   36.0  \n",
              "1      51.2  16.0   28.5   33.0  \n",
              "2      51.9  15.5   30.0   34.0  \n",
              "3      52.2  15.2   28.0   34.0  \n",
              "4      53.2  15.1   28.5   33.0  "
            ],
            "text/html": [
              "\n",
              "  <div id=\"df-c747d758-a595-4613-b718-e9a0255e08f2\">\n",
              "    <div class=\"colab-df-container\">\n",
              "      <div>\n",
              "<style scoped>\n",
              "    .dataframe tbody tr th:only-of-type {\n",
              "        vertical-align: middle;\n",
              "    }\n",
              "\n",
              "    .dataframe tbody tr th {\n",
              "        vertical-align: top;\n",
              "    }\n",
              "\n",
              "    .dataframe thead th {\n",
              "        text-align: right;\n",
              "    }\n",
              "</style>\n",
              "<table border=\"1\" class=\"dataframe\">\n",
              "  <thead>\n",
              "    <tr style=\"text-align: right;\">\n",
              "      <th></th>\n",
              "      <th>case</th>\n",
              "      <th>site</th>\n",
              "      <th>Pop</th>\n",
              "      <th>sex</th>\n",
              "      <th>age</th>\n",
              "      <th>hdlngth</th>\n",
              "      <th>skullw</th>\n",
              "      <th>totlngth</th>\n",
              "      <th>taill</th>\n",
              "      <th>footlgth</th>\n",
              "      <th>earconch</th>\n",
              "      <th>eye</th>\n",
              "      <th>chest</th>\n",
              "      <th>belly</th>\n",
              "    </tr>\n",
              "  </thead>\n",
              "  <tbody>\n",
              "    <tr>\n",
              "      <th>0</th>\n",
              "      <td>1</td>\n",
              "      <td>1</td>\n",
              "      <td>Vic</td>\n",
              "      <td>m</td>\n",
              "      <td>8.0</td>\n",
              "      <td>94.1</td>\n",
              "      <td>60.4</td>\n",
              "      <td>89.0</td>\n",
              "      <td>36.0</td>\n",
              "      <td>74.5</td>\n",
              "      <td>54.5</td>\n",
              "      <td>15.2</td>\n",
              "      <td>28.0</td>\n",
              "      <td>36.0</td>\n",
              "    </tr>\n",
              "    <tr>\n",
              "      <th>1</th>\n",
              "      <td>2</td>\n",
              "      <td>1</td>\n",
              "      <td>Vic</td>\n",
              "      <td>f</td>\n",
              "      <td>6.0</td>\n",
              "      <td>92.5</td>\n",
              "      <td>57.6</td>\n",
              "      <td>91.5</td>\n",
              "      <td>36.5</td>\n",
              "      <td>72.5</td>\n",
              "      <td>51.2</td>\n",
              "      <td>16.0</td>\n",
              "      <td>28.5</td>\n",
              "      <td>33.0</td>\n",
              "    </tr>\n",
              "    <tr>\n",
              "      <th>2</th>\n",
              "      <td>3</td>\n",
              "      <td>1</td>\n",
              "      <td>Vic</td>\n",
              "      <td>f</td>\n",
              "      <td>6.0</td>\n",
              "      <td>94.0</td>\n",
              "      <td>60.0</td>\n",
              "      <td>95.5</td>\n",
              "      <td>39.0</td>\n",
              "      <td>75.4</td>\n",
              "      <td>51.9</td>\n",
              "      <td>15.5</td>\n",
              "      <td>30.0</td>\n",
              "      <td>34.0</td>\n",
              "    </tr>\n",
              "    <tr>\n",
              "      <th>3</th>\n",
              "      <td>4</td>\n",
              "      <td>1</td>\n",
              "      <td>Vic</td>\n",
              "      <td>f</td>\n",
              "      <td>6.0</td>\n",
              "      <td>93.2</td>\n",
              "      <td>57.1</td>\n",
              "      <td>92.0</td>\n",
              "      <td>38.0</td>\n",
              "      <td>76.1</td>\n",
              "      <td>52.2</td>\n",
              "      <td>15.2</td>\n",
              "      <td>28.0</td>\n",
              "      <td>34.0</td>\n",
              "    </tr>\n",
              "    <tr>\n",
              "      <th>4</th>\n",
              "      <td>5</td>\n",
              "      <td>1</td>\n",
              "      <td>Vic</td>\n",
              "      <td>f</td>\n",
              "      <td>2.0</td>\n",
              "      <td>91.5</td>\n",
              "      <td>56.3</td>\n",
              "      <td>85.5</td>\n",
              "      <td>36.0</td>\n",
              "      <td>71.0</td>\n",
              "      <td>53.2</td>\n",
              "      <td>15.1</td>\n",
              "      <td>28.5</td>\n",
              "      <td>33.0</td>\n",
              "    </tr>\n",
              "  </tbody>\n",
              "</table>\n",
              "</div>\n",
              "      <button class=\"colab-df-convert\" onclick=\"convertToInteractive('df-c747d758-a595-4613-b718-e9a0255e08f2')\"\n",
              "              title=\"Convert this dataframe to an interactive table.\"\n",
              "              style=\"display:none;\">\n",
              "        \n",
              "  <svg xmlns=\"http://www.w3.org/2000/svg\" height=\"24px\"viewBox=\"0 0 24 24\"\n",
              "       width=\"24px\">\n",
              "    <path d=\"M0 0h24v24H0V0z\" fill=\"none\"/>\n",
              "    <path d=\"M18.56 5.44l.94 2.06.94-2.06 2.06-.94-2.06-.94-.94-2.06-.94 2.06-2.06.94zm-11 1L8.5 8.5l.94-2.06 2.06-.94-2.06-.94L8.5 2.5l-.94 2.06-2.06.94zm10 10l.94 2.06.94-2.06 2.06-.94-2.06-.94-.94-2.06-.94 2.06-2.06.94z\"/><path d=\"M17.41 7.96l-1.37-1.37c-.4-.4-.92-.59-1.43-.59-.52 0-1.04.2-1.43.59L10.3 9.45l-7.72 7.72c-.78.78-.78 2.05 0 2.83L4 21.41c.39.39.9.59 1.41.59.51 0 1.02-.2 1.41-.59l7.78-7.78 2.81-2.81c.8-.78.8-2.07 0-2.86zM5.41 20L4 18.59l7.72-7.72 1.47 1.35L5.41 20z\"/>\n",
              "  </svg>\n",
              "      </button>\n",
              "      \n",
              "  <style>\n",
              "    .colab-df-container {\n",
              "      display:flex;\n",
              "      flex-wrap:wrap;\n",
              "      gap: 12px;\n",
              "    }\n",
              "\n",
              "    .colab-df-convert {\n",
              "      background-color: #E8F0FE;\n",
              "      border: none;\n",
              "      border-radius: 50%;\n",
              "      cursor: pointer;\n",
              "      display: none;\n",
              "      fill: #1967D2;\n",
              "      height: 32px;\n",
              "      padding: 0 0 0 0;\n",
              "      width: 32px;\n",
              "    }\n",
              "\n",
              "    .colab-df-convert:hover {\n",
              "      background-color: #E2EBFA;\n",
              "      box-shadow: 0px 1px 2px rgba(60, 64, 67, 0.3), 0px 1px 3px 1px rgba(60, 64, 67, 0.15);\n",
              "      fill: #174EA6;\n",
              "    }\n",
              "\n",
              "    [theme=dark] .colab-df-convert {\n",
              "      background-color: #3B4455;\n",
              "      fill: #D2E3FC;\n",
              "    }\n",
              "\n",
              "    [theme=dark] .colab-df-convert:hover {\n",
              "      background-color: #434B5C;\n",
              "      box-shadow: 0px 1px 3px 1px rgba(0, 0, 0, 0.15);\n",
              "      filter: drop-shadow(0px 1px 2px rgba(0, 0, 0, 0.3));\n",
              "      fill: #FFFFFF;\n",
              "    }\n",
              "  </style>\n",
              "\n",
              "      <script>\n",
              "        const buttonEl =\n",
              "          document.querySelector('#df-c747d758-a595-4613-b718-e9a0255e08f2 button.colab-df-convert');\n",
              "        buttonEl.style.display =\n",
              "          google.colab.kernel.accessAllowed ? 'block' : 'none';\n",
              "\n",
              "        async function convertToInteractive(key) {\n",
              "          const element = document.querySelector('#df-c747d758-a595-4613-b718-e9a0255e08f2');\n",
              "          const dataTable =\n",
              "            await google.colab.kernel.invokeFunction('convertToInteractive',\n",
              "                                                     [key], {});\n",
              "          if (!dataTable) return;\n",
              "\n",
              "          const docLinkHtml = 'Like what you see? Visit the ' +\n",
              "            '<a target=\"_blank\" href=https://colab.research.google.com/notebooks/data_table.ipynb>data table notebook</a>'\n",
              "            + ' to learn more about interactive tables.';\n",
              "          element.innerHTML = '';\n",
              "          dataTable['output_type'] = 'display_data';\n",
              "          await google.colab.output.renderOutput(dataTable, element);\n",
              "          const docLink = document.createElement('div');\n",
              "          docLink.innerHTML = docLinkHtml;\n",
              "          element.appendChild(docLink);\n",
              "        }\n",
              "      </script>\n",
              "    </div>\n",
              "  </div>\n",
              "  "
            ]
          },
          "metadata": {},
          "execution_count": 61
        }
      ]
    },
    {
      "cell_type": "code",
      "source": [
        "df.describe()"
      ],
      "metadata": {
        "colab": {
          "base_uri": "https://localhost:8080/",
          "height": 300
        },
        "id": "U1ssuZNDvwyW",
        "outputId": "35983e15-d8e5-477d-958f-bff50af49fd6"
      },
      "execution_count": 62,
      "outputs": [
        {
          "output_type": "execute_result",
          "data": {
            "text/plain": [
              "             case        site         age     hdlngth      skullw    totlngth  \\\n",
              "count  104.000000  104.000000  102.000000  104.000000  104.000000  104.000000   \n",
              "mean    52.500000    3.625000    3.833333   92.602885   56.883654   87.088462   \n",
              "std     30.166206    2.349086    1.909244    3.573349    3.113426    4.310549   \n",
              "min      1.000000    1.000000    1.000000   82.500000   50.000000   75.000000   \n",
              "25%     26.750000    1.000000    2.250000   90.675000   54.975000   84.000000   \n",
              "50%     52.500000    3.000000    3.000000   92.800000   56.350000   88.000000   \n",
              "75%     78.250000    6.000000    5.000000   94.725000   58.100000   90.000000   \n",
              "max    104.000000    7.000000    9.000000  103.100000   68.600000   96.500000   \n",
              "\n",
              "            taill    footlgth    earconch         eye       chest       belly  \n",
              "count  104.000000  103.000000  104.000000  104.000000  104.000000  104.000000  \n",
              "mean    37.009615   68.459223   48.130769   15.046154   27.000000   32.586538  \n",
              "std      1.959518    4.395306    4.109380    1.050374    2.045597    2.761949  \n",
              "min     32.000000   60.300000   40.300000   12.800000   22.000000   25.000000  \n",
              "25%     35.875000   64.600000   44.800000   14.400000   25.500000   31.000000  \n",
              "50%     37.000000   68.000000   46.800000   14.900000   27.000000   32.500000  \n",
              "75%     38.000000   72.500000   52.000000   15.725000   28.000000   34.125000  \n",
              "max     43.000000   77.900000   56.200000   17.800000   32.000000   40.000000  "
            ],
            "text/html": [
              "\n",
              "  <div id=\"df-fb308593-20e7-4ca1-9a31-dce67905b7b6\">\n",
              "    <div class=\"colab-df-container\">\n",
              "      <div>\n",
              "<style scoped>\n",
              "    .dataframe tbody tr th:only-of-type {\n",
              "        vertical-align: middle;\n",
              "    }\n",
              "\n",
              "    .dataframe tbody tr th {\n",
              "        vertical-align: top;\n",
              "    }\n",
              "\n",
              "    .dataframe thead th {\n",
              "        text-align: right;\n",
              "    }\n",
              "</style>\n",
              "<table border=\"1\" class=\"dataframe\">\n",
              "  <thead>\n",
              "    <tr style=\"text-align: right;\">\n",
              "      <th></th>\n",
              "      <th>case</th>\n",
              "      <th>site</th>\n",
              "      <th>age</th>\n",
              "      <th>hdlngth</th>\n",
              "      <th>skullw</th>\n",
              "      <th>totlngth</th>\n",
              "      <th>taill</th>\n",
              "      <th>footlgth</th>\n",
              "      <th>earconch</th>\n",
              "      <th>eye</th>\n",
              "      <th>chest</th>\n",
              "      <th>belly</th>\n",
              "    </tr>\n",
              "  </thead>\n",
              "  <tbody>\n",
              "    <tr>\n",
              "      <th>count</th>\n",
              "      <td>104.000000</td>\n",
              "      <td>104.000000</td>\n",
              "      <td>102.000000</td>\n",
              "      <td>104.000000</td>\n",
              "      <td>104.000000</td>\n",
              "      <td>104.000000</td>\n",
              "      <td>104.000000</td>\n",
              "      <td>103.000000</td>\n",
              "      <td>104.000000</td>\n",
              "      <td>104.000000</td>\n",
              "      <td>104.000000</td>\n",
              "      <td>104.000000</td>\n",
              "    </tr>\n",
              "    <tr>\n",
              "      <th>mean</th>\n",
              "      <td>52.500000</td>\n",
              "      <td>3.625000</td>\n",
              "      <td>3.833333</td>\n",
              "      <td>92.602885</td>\n",
              "      <td>56.883654</td>\n",
              "      <td>87.088462</td>\n",
              "      <td>37.009615</td>\n",
              "      <td>68.459223</td>\n",
              "      <td>48.130769</td>\n",
              "      <td>15.046154</td>\n",
              "      <td>27.000000</td>\n",
              "      <td>32.586538</td>\n",
              "    </tr>\n",
              "    <tr>\n",
              "      <th>std</th>\n",
              "      <td>30.166206</td>\n",
              "      <td>2.349086</td>\n",
              "      <td>1.909244</td>\n",
              "      <td>3.573349</td>\n",
              "      <td>3.113426</td>\n",
              "      <td>4.310549</td>\n",
              "      <td>1.959518</td>\n",
              "      <td>4.395306</td>\n",
              "      <td>4.109380</td>\n",
              "      <td>1.050374</td>\n",
              "      <td>2.045597</td>\n",
              "      <td>2.761949</td>\n",
              "    </tr>\n",
              "    <tr>\n",
              "      <th>min</th>\n",
              "      <td>1.000000</td>\n",
              "      <td>1.000000</td>\n",
              "      <td>1.000000</td>\n",
              "      <td>82.500000</td>\n",
              "      <td>50.000000</td>\n",
              "      <td>75.000000</td>\n",
              "      <td>32.000000</td>\n",
              "      <td>60.300000</td>\n",
              "      <td>40.300000</td>\n",
              "      <td>12.800000</td>\n",
              "      <td>22.000000</td>\n",
              "      <td>25.000000</td>\n",
              "    </tr>\n",
              "    <tr>\n",
              "      <th>25%</th>\n",
              "      <td>26.750000</td>\n",
              "      <td>1.000000</td>\n",
              "      <td>2.250000</td>\n",
              "      <td>90.675000</td>\n",
              "      <td>54.975000</td>\n",
              "      <td>84.000000</td>\n",
              "      <td>35.875000</td>\n",
              "      <td>64.600000</td>\n",
              "      <td>44.800000</td>\n",
              "      <td>14.400000</td>\n",
              "      <td>25.500000</td>\n",
              "      <td>31.000000</td>\n",
              "    </tr>\n",
              "    <tr>\n",
              "      <th>50%</th>\n",
              "      <td>52.500000</td>\n",
              "      <td>3.000000</td>\n",
              "      <td>3.000000</td>\n",
              "      <td>92.800000</td>\n",
              "      <td>56.350000</td>\n",
              "      <td>88.000000</td>\n",
              "      <td>37.000000</td>\n",
              "      <td>68.000000</td>\n",
              "      <td>46.800000</td>\n",
              "      <td>14.900000</td>\n",
              "      <td>27.000000</td>\n",
              "      <td>32.500000</td>\n",
              "    </tr>\n",
              "    <tr>\n",
              "      <th>75%</th>\n",
              "      <td>78.250000</td>\n",
              "      <td>6.000000</td>\n",
              "      <td>5.000000</td>\n",
              "      <td>94.725000</td>\n",
              "      <td>58.100000</td>\n",
              "      <td>90.000000</td>\n",
              "      <td>38.000000</td>\n",
              "      <td>72.500000</td>\n",
              "      <td>52.000000</td>\n",
              "      <td>15.725000</td>\n",
              "      <td>28.000000</td>\n",
              "      <td>34.125000</td>\n",
              "    </tr>\n",
              "    <tr>\n",
              "      <th>max</th>\n",
              "      <td>104.000000</td>\n",
              "      <td>7.000000</td>\n",
              "      <td>9.000000</td>\n",
              "      <td>103.100000</td>\n",
              "      <td>68.600000</td>\n",
              "      <td>96.500000</td>\n",
              "      <td>43.000000</td>\n",
              "      <td>77.900000</td>\n",
              "      <td>56.200000</td>\n",
              "      <td>17.800000</td>\n",
              "      <td>32.000000</td>\n",
              "      <td>40.000000</td>\n",
              "    </tr>\n",
              "  </tbody>\n",
              "</table>\n",
              "</div>\n",
              "      <button class=\"colab-df-convert\" onclick=\"convertToInteractive('df-fb308593-20e7-4ca1-9a31-dce67905b7b6')\"\n",
              "              title=\"Convert this dataframe to an interactive table.\"\n",
              "              style=\"display:none;\">\n",
              "        \n",
              "  <svg xmlns=\"http://www.w3.org/2000/svg\" height=\"24px\"viewBox=\"0 0 24 24\"\n",
              "       width=\"24px\">\n",
              "    <path d=\"M0 0h24v24H0V0z\" fill=\"none\"/>\n",
              "    <path d=\"M18.56 5.44l.94 2.06.94-2.06 2.06-.94-2.06-.94-.94-2.06-.94 2.06-2.06.94zm-11 1L8.5 8.5l.94-2.06 2.06-.94-2.06-.94L8.5 2.5l-.94 2.06-2.06.94zm10 10l.94 2.06.94-2.06 2.06-.94-2.06-.94-.94-2.06-.94 2.06-2.06.94z\"/><path d=\"M17.41 7.96l-1.37-1.37c-.4-.4-.92-.59-1.43-.59-.52 0-1.04.2-1.43.59L10.3 9.45l-7.72 7.72c-.78.78-.78 2.05 0 2.83L4 21.41c.39.39.9.59 1.41.59.51 0 1.02-.2 1.41-.59l7.78-7.78 2.81-2.81c.8-.78.8-2.07 0-2.86zM5.41 20L4 18.59l7.72-7.72 1.47 1.35L5.41 20z\"/>\n",
              "  </svg>\n",
              "      </button>\n",
              "      \n",
              "  <style>\n",
              "    .colab-df-container {\n",
              "      display:flex;\n",
              "      flex-wrap:wrap;\n",
              "      gap: 12px;\n",
              "    }\n",
              "\n",
              "    .colab-df-convert {\n",
              "      background-color: #E8F0FE;\n",
              "      border: none;\n",
              "      border-radius: 50%;\n",
              "      cursor: pointer;\n",
              "      display: none;\n",
              "      fill: #1967D2;\n",
              "      height: 32px;\n",
              "      padding: 0 0 0 0;\n",
              "      width: 32px;\n",
              "    }\n",
              "\n",
              "    .colab-df-convert:hover {\n",
              "      background-color: #E2EBFA;\n",
              "      box-shadow: 0px 1px 2px rgba(60, 64, 67, 0.3), 0px 1px 3px 1px rgba(60, 64, 67, 0.15);\n",
              "      fill: #174EA6;\n",
              "    }\n",
              "\n",
              "    [theme=dark] .colab-df-convert {\n",
              "      background-color: #3B4455;\n",
              "      fill: #D2E3FC;\n",
              "    }\n",
              "\n",
              "    [theme=dark] .colab-df-convert:hover {\n",
              "      background-color: #434B5C;\n",
              "      box-shadow: 0px 1px 3px 1px rgba(0, 0, 0, 0.15);\n",
              "      filter: drop-shadow(0px 1px 2px rgba(0, 0, 0, 0.3));\n",
              "      fill: #FFFFFF;\n",
              "    }\n",
              "  </style>\n",
              "\n",
              "      <script>\n",
              "        const buttonEl =\n",
              "          document.querySelector('#df-fb308593-20e7-4ca1-9a31-dce67905b7b6 button.colab-df-convert');\n",
              "        buttonEl.style.display =\n",
              "          google.colab.kernel.accessAllowed ? 'block' : 'none';\n",
              "\n",
              "        async function convertToInteractive(key) {\n",
              "          const element = document.querySelector('#df-fb308593-20e7-4ca1-9a31-dce67905b7b6');\n",
              "          const dataTable =\n",
              "            await google.colab.kernel.invokeFunction('convertToInteractive',\n",
              "                                                     [key], {});\n",
              "          if (!dataTable) return;\n",
              "\n",
              "          const docLinkHtml = 'Like what you see? Visit the ' +\n",
              "            '<a target=\"_blank\" href=https://colab.research.google.com/notebooks/data_table.ipynb>data table notebook</a>'\n",
              "            + ' to learn more about interactive tables.';\n",
              "          element.innerHTML = '';\n",
              "          dataTable['output_type'] = 'display_data';\n",
              "          await google.colab.output.renderOutput(dataTable, element);\n",
              "          const docLink = document.createElement('div');\n",
              "          docLink.innerHTML = docLinkHtml;\n",
              "          element.appendChild(docLink);\n",
              "        }\n",
              "      </script>\n",
              "    </div>\n",
              "  </div>\n",
              "  "
            ]
          },
          "metadata": {},
          "execution_count": 62
        }
      ]
    },
    {
      "cell_type": "code",
      "source": [
        "print(\"Null Values found: \", df.isnull().sum())\n",
        "df = df.dropna(axis = 0)\n",
        "df.shape"
      ],
      "metadata": {
        "colab": {
          "base_uri": "https://localhost:8080/"
        },
        "id": "Bb8z5eq1vyZj",
        "outputId": "17d6b231-91b0-4a46-beae-7365c9245467"
      },
      "execution_count": 63,
      "outputs": [
        {
          "output_type": "stream",
          "name": "stdout",
          "text": [
            "Null Values found:  case        0\n",
            "site        0\n",
            "Pop         0\n",
            "sex         0\n",
            "age         2\n",
            "hdlngth     0\n",
            "skullw      0\n",
            "totlngth    0\n",
            "taill       0\n",
            "footlgth    1\n",
            "earconch    0\n",
            "eye         0\n",
            "chest       0\n",
            "belly       0\n",
            "dtype: int64\n"
          ]
        },
        {
          "output_type": "execute_result",
          "data": {
            "text/plain": [
              "(101, 14)"
            ]
          },
          "metadata": {},
          "execution_count": 63
        }
      ]
    },
    {
      "cell_type": "code",
      "source": [
        "print(df.Pop.unique())\n",
        "print(df.sex.unique())\n"
      ],
      "metadata": {
        "colab": {
          "base_uri": "https://localhost:8080/"
        },
        "id": "Bx5lt3cnv3Hl",
        "outputId": "135aec6f-a541-4c36-95b9-9f22c0d6ac63"
      },
      "execution_count": 64,
      "outputs": [
        {
          "output_type": "stream",
          "name": "stdout",
          "text": [
            "['Vic' 'other']\n",
            "['m' 'f']\n"
          ]
        }
      ]
    },
    {
      "cell_type": "markdown",
      "source": [
        "Cambiamos los valores categoricos a numericos"
      ],
      "metadata": {
        "id": "JDcQ4W8jmqbq"
      }
    },
    {
      "cell_type": "code",
      "source": [
        "df.sex = df.sex.map({\"m\":1, \"f\":0})\n",
        "df.Pop = df.Pop.map({\"Vic\":1, \"other\":0})"
      ],
      "metadata": {
        "id": "wX77cvokypZ7"
      },
      "execution_count": 65,
      "outputs": []
    },
    {
      "cell_type": "code",
      "source": [
        "df.head()"
      ],
      "metadata": {
        "colab": {
          "base_uri": "https://localhost:8080/",
          "height": 206
        },
        "id": "4_n5b4dTyzd3",
        "outputId": "541fb3cc-a6f5-43b9-d7e0-dd18a74dce9b"
      },
      "execution_count": 66,
      "outputs": [
        {
          "output_type": "execute_result",
          "data": {
            "text/plain": [
              "   case  site  Pop  sex  age  hdlngth  skullw  totlngth  taill  footlgth  \\\n",
              "0     1     1    1    1  8.0     94.1    60.4      89.0   36.0      74.5   \n",
              "1     2     1    1    0  6.0     92.5    57.6      91.5   36.5      72.5   \n",
              "2     3     1    1    0  6.0     94.0    60.0      95.5   39.0      75.4   \n",
              "3     4     1    1    0  6.0     93.2    57.1      92.0   38.0      76.1   \n",
              "4     5     1    1    0  2.0     91.5    56.3      85.5   36.0      71.0   \n",
              "\n",
              "   earconch   eye  chest  belly  \n",
              "0      54.5  15.2   28.0   36.0  \n",
              "1      51.2  16.0   28.5   33.0  \n",
              "2      51.9  15.5   30.0   34.0  \n",
              "3      52.2  15.2   28.0   34.0  \n",
              "4      53.2  15.1   28.5   33.0  "
            ],
            "text/html": [
              "\n",
              "  <div id=\"df-38691f14-19b7-4152-8294-5d670b287d77\">\n",
              "    <div class=\"colab-df-container\">\n",
              "      <div>\n",
              "<style scoped>\n",
              "    .dataframe tbody tr th:only-of-type {\n",
              "        vertical-align: middle;\n",
              "    }\n",
              "\n",
              "    .dataframe tbody tr th {\n",
              "        vertical-align: top;\n",
              "    }\n",
              "\n",
              "    .dataframe thead th {\n",
              "        text-align: right;\n",
              "    }\n",
              "</style>\n",
              "<table border=\"1\" class=\"dataframe\">\n",
              "  <thead>\n",
              "    <tr style=\"text-align: right;\">\n",
              "      <th></th>\n",
              "      <th>case</th>\n",
              "      <th>site</th>\n",
              "      <th>Pop</th>\n",
              "      <th>sex</th>\n",
              "      <th>age</th>\n",
              "      <th>hdlngth</th>\n",
              "      <th>skullw</th>\n",
              "      <th>totlngth</th>\n",
              "      <th>taill</th>\n",
              "      <th>footlgth</th>\n",
              "      <th>earconch</th>\n",
              "      <th>eye</th>\n",
              "      <th>chest</th>\n",
              "      <th>belly</th>\n",
              "    </tr>\n",
              "  </thead>\n",
              "  <tbody>\n",
              "    <tr>\n",
              "      <th>0</th>\n",
              "      <td>1</td>\n",
              "      <td>1</td>\n",
              "      <td>1</td>\n",
              "      <td>1</td>\n",
              "      <td>8.0</td>\n",
              "      <td>94.1</td>\n",
              "      <td>60.4</td>\n",
              "      <td>89.0</td>\n",
              "      <td>36.0</td>\n",
              "      <td>74.5</td>\n",
              "      <td>54.5</td>\n",
              "      <td>15.2</td>\n",
              "      <td>28.0</td>\n",
              "      <td>36.0</td>\n",
              "    </tr>\n",
              "    <tr>\n",
              "      <th>1</th>\n",
              "      <td>2</td>\n",
              "      <td>1</td>\n",
              "      <td>1</td>\n",
              "      <td>0</td>\n",
              "      <td>6.0</td>\n",
              "      <td>92.5</td>\n",
              "      <td>57.6</td>\n",
              "      <td>91.5</td>\n",
              "      <td>36.5</td>\n",
              "      <td>72.5</td>\n",
              "      <td>51.2</td>\n",
              "      <td>16.0</td>\n",
              "      <td>28.5</td>\n",
              "      <td>33.0</td>\n",
              "    </tr>\n",
              "    <tr>\n",
              "      <th>2</th>\n",
              "      <td>3</td>\n",
              "      <td>1</td>\n",
              "      <td>1</td>\n",
              "      <td>0</td>\n",
              "      <td>6.0</td>\n",
              "      <td>94.0</td>\n",
              "      <td>60.0</td>\n",
              "      <td>95.5</td>\n",
              "      <td>39.0</td>\n",
              "      <td>75.4</td>\n",
              "      <td>51.9</td>\n",
              "      <td>15.5</td>\n",
              "      <td>30.0</td>\n",
              "      <td>34.0</td>\n",
              "    </tr>\n",
              "    <tr>\n",
              "      <th>3</th>\n",
              "      <td>4</td>\n",
              "      <td>1</td>\n",
              "      <td>1</td>\n",
              "      <td>0</td>\n",
              "      <td>6.0</td>\n",
              "      <td>93.2</td>\n",
              "      <td>57.1</td>\n",
              "      <td>92.0</td>\n",
              "      <td>38.0</td>\n",
              "      <td>76.1</td>\n",
              "      <td>52.2</td>\n",
              "      <td>15.2</td>\n",
              "      <td>28.0</td>\n",
              "      <td>34.0</td>\n",
              "    </tr>\n",
              "    <tr>\n",
              "      <th>4</th>\n",
              "      <td>5</td>\n",
              "      <td>1</td>\n",
              "      <td>1</td>\n",
              "      <td>0</td>\n",
              "      <td>2.0</td>\n",
              "      <td>91.5</td>\n",
              "      <td>56.3</td>\n",
              "      <td>85.5</td>\n",
              "      <td>36.0</td>\n",
              "      <td>71.0</td>\n",
              "      <td>53.2</td>\n",
              "      <td>15.1</td>\n",
              "      <td>28.5</td>\n",
              "      <td>33.0</td>\n",
              "    </tr>\n",
              "  </tbody>\n",
              "</table>\n",
              "</div>\n",
              "      <button class=\"colab-df-convert\" onclick=\"convertToInteractive('df-38691f14-19b7-4152-8294-5d670b287d77')\"\n",
              "              title=\"Convert this dataframe to an interactive table.\"\n",
              "              style=\"display:none;\">\n",
              "        \n",
              "  <svg xmlns=\"http://www.w3.org/2000/svg\" height=\"24px\"viewBox=\"0 0 24 24\"\n",
              "       width=\"24px\">\n",
              "    <path d=\"M0 0h24v24H0V0z\" fill=\"none\"/>\n",
              "    <path d=\"M18.56 5.44l.94 2.06.94-2.06 2.06-.94-2.06-.94-.94-2.06-.94 2.06-2.06.94zm-11 1L8.5 8.5l.94-2.06 2.06-.94-2.06-.94L8.5 2.5l-.94 2.06-2.06.94zm10 10l.94 2.06.94-2.06 2.06-.94-2.06-.94-.94-2.06-.94 2.06-2.06.94z\"/><path d=\"M17.41 7.96l-1.37-1.37c-.4-.4-.92-.59-1.43-.59-.52 0-1.04.2-1.43.59L10.3 9.45l-7.72 7.72c-.78.78-.78 2.05 0 2.83L4 21.41c.39.39.9.59 1.41.59.51 0 1.02-.2 1.41-.59l7.78-7.78 2.81-2.81c.8-.78.8-2.07 0-2.86zM5.41 20L4 18.59l7.72-7.72 1.47 1.35L5.41 20z\"/>\n",
              "  </svg>\n",
              "      </button>\n",
              "      \n",
              "  <style>\n",
              "    .colab-df-container {\n",
              "      display:flex;\n",
              "      flex-wrap:wrap;\n",
              "      gap: 12px;\n",
              "    }\n",
              "\n",
              "    .colab-df-convert {\n",
              "      background-color: #E8F0FE;\n",
              "      border: none;\n",
              "      border-radius: 50%;\n",
              "      cursor: pointer;\n",
              "      display: none;\n",
              "      fill: #1967D2;\n",
              "      height: 32px;\n",
              "      padding: 0 0 0 0;\n",
              "      width: 32px;\n",
              "    }\n",
              "\n",
              "    .colab-df-convert:hover {\n",
              "      background-color: #E2EBFA;\n",
              "      box-shadow: 0px 1px 2px rgba(60, 64, 67, 0.3), 0px 1px 3px 1px rgba(60, 64, 67, 0.15);\n",
              "      fill: #174EA6;\n",
              "    }\n",
              "\n",
              "    [theme=dark] .colab-df-convert {\n",
              "      background-color: #3B4455;\n",
              "      fill: #D2E3FC;\n",
              "    }\n",
              "\n",
              "    [theme=dark] .colab-df-convert:hover {\n",
              "      background-color: #434B5C;\n",
              "      box-shadow: 0px 1px 3px 1px rgba(0, 0, 0, 0.15);\n",
              "      filter: drop-shadow(0px 1px 2px rgba(0, 0, 0, 0.3));\n",
              "      fill: #FFFFFF;\n",
              "    }\n",
              "  </style>\n",
              "\n",
              "      <script>\n",
              "        const buttonEl =\n",
              "          document.querySelector('#df-38691f14-19b7-4152-8294-5d670b287d77 button.colab-df-convert');\n",
              "        buttonEl.style.display =\n",
              "          google.colab.kernel.accessAllowed ? 'block' : 'none';\n",
              "\n",
              "        async function convertToInteractive(key) {\n",
              "          const element = document.querySelector('#df-38691f14-19b7-4152-8294-5d670b287d77');\n",
              "          const dataTable =\n",
              "            await google.colab.kernel.invokeFunction('convertToInteractive',\n",
              "                                                     [key], {});\n",
              "          if (!dataTable) return;\n",
              "\n",
              "          const docLinkHtml = 'Like what you see? Visit the ' +\n",
              "            '<a target=\"_blank\" href=https://colab.research.google.com/notebooks/data_table.ipynb>data table notebook</a>'\n",
              "            + ' to learn more about interactive tables.';\n",
              "          element.innerHTML = '';\n",
              "          dataTable['output_type'] = 'display_data';\n",
              "          await google.colab.output.renderOutput(dataTable, element);\n",
              "          const docLink = document.createElement('div');\n",
              "          docLink.innerHTML = docLinkHtml;\n",
              "          element.appendChild(docLink);\n",
              "        }\n",
              "      </script>\n",
              "    </div>\n",
              "  </div>\n",
              "  "
            ]
          },
          "metadata": {},
          "execution_count": 66
        }
      ]
    },
    {
      "cell_type": "code",
      "source": [
        "plt.hist(df.sex)\n",
        "plt.xlabel(\"Sex\")\n",
        "plt.ylabel(\"Frequency\")\n",
        "plt.title(\"Frecuencia de sexo\")"
      ],
      "metadata": {
        "colab": {
          "base_uri": "https://localhost:8080/",
          "height": 971
        },
        "id": "k-UST8u70T9R",
        "outputId": "2c23bb12-427e-4b8a-f283-78bab1dc8018"
      },
      "execution_count": 67,
      "outputs": [
        {
          "output_type": "execute_result",
          "data": {
            "text/plain": [
              "Text(0.5, 1.0, 'Frecuencia de sexo')"
            ]
          },
          "metadata": {},
          "execution_count": 67
        },
        {
          "output_type": "display_data",
          "data": {
            "text/plain": [
              "<Figure size 1800x1152 with 1 Axes>"
            ],
            "image/png": "[encoded data removed]"
          },
          "metadata": {}
        }
      ]
    },
    {
      "cell_type": "markdown",
      "source": [
        "# Separamos el dataset en (Train/Test/Validation)."
      ],
      "metadata": {
        "id": "5eRoS9vEAPyT"
      }
    },
    {
      "cell_type": "code",
      "source": [
        "sex = df.sex\n",
        "sex = sex.values\n",
        "X = df[[\"site\",\"Pop\",\"hdlngth\",\"skullw\",\"totlngth\",\"taill\",\"footlgth\",\"earconch\",\"belly\",\"eye\",\"chest\"]]\n",
        "X = X.values"
      ],
      "metadata": {
        "id": "0tM4o4Fl2TWv"
      },
      "execution_count": 68,
      "outputs": []
    },
    {
      "cell_type": "code",
      "source": [
        "from sklearn.model_selection import train_test_split\n",
        "x_train,x_test,y_train,y_test = train_test_split(X, sex, test_size = 0.2, random_state = 7)"
      ],
      "metadata": {
        "id": "L8FvWKpB2PDS"
      },
      "execution_count": 69,
      "outputs": []
    },
    {
      "cell_type": "markdown",
      "source": [
        "# Se genera el modelo"
      ],
      "metadata": {
        "id": "atc4PirRSKkF"
      }
    },
    {
      "cell_type": "code",
      "source": [
        "# get the rf object\n",
        "lg_model = LogisticRegression(solver='newton-cg',random_state=16)\n",
        "\n",
        "\n",
        "# fit the same base model\n",
        "lg_model.fit(x_train, y_train)\n",
        "\n",
        "# prediction\n",
        "lg_pred = lg_model.predict(x_test)"
      ],
      "metadata": {
        "id": "diFw8jR1_x9I"
      },
      "execution_count": 70,
      "outputs": []
    },
    {
      "cell_type": "markdown",
      "source": [
        "# Predicciones"
      ],
      "metadata": {
        "id": "CiVpwqL1u1rO"
      }
    },
    {
      "cell_type": "code",
      "source": [
        "print(\"Valores de test: \", y_test)\n",
        "print(\"Predicciones   : \", lg_pred)"
      ],
      "metadata": {
        "colab": {
          "base_uri": "https://localhost:8080/"
        },
        "id": "yAhGysFsu5kv",
        "outputId": "042786cf-7362-480f-d178-c8c28d0a51da"
      },
      "execution_count": 71,
      "outputs": [
        {
          "output_type": "stream",
          "name": "stdout",
          "text": [
            "Valores de test:  [1 0 0 1 0 1 1 1 1 0 1 1 1 1 1 1 0 0 0 0 1]\n",
            "Predicciones   :  [1 1 0 1 1 0 1 1 1 0 1 0 1 1 1 1 1 0 0 1 1]\n"
          ]
        }
      ]
    },
    {
      "cell_type": "markdown",
      "source": [
        "# Descripción de resultados; vemos que la precisión general se encuentra en 0.71 "
      ],
      "metadata": {
        "id": "7i8x6CFFLjb_"
      }
    },
    {
      "cell_type": "code",
      "source": [
        "from sklearn.metrics import classification_report\n",
        "target_names = ['Male', 'Female']\n",
        "print(classification_report(y_test, lg_pred, target_names=target_names))"
      ],
      "metadata": {
        "colab": {
          "base_uri": "https://localhost:8080/"
        },
        "id": "g0xpefxvAAA_",
        "outputId": "b3b9ea3a-9dc7-4df7-ba00-6625a5cf4729"
      },
      "execution_count": 72,
      "outputs": [
        {
          "output_type": "stream",
          "name": "stdout",
          "text": [
            "              precision    recall  f1-score   support\n",
            "\n",
            "        Male       0.67      0.50      0.57         8\n",
            "      Female       0.73      0.85      0.79        13\n",
            "\n",
            "    accuracy                           0.71        21\n",
            "   macro avg       0.70      0.67      0.68        21\n",
            "weighted avg       0.71      0.71      0.70        21\n",
            "\n"
          ]
        }
      ]
    },
    {
      "cell_type": "code",
      "source": [
        "cf_matrix = confusion_matrix(y_test, lg_pred)"
      ],
      "metadata": {
        "id": "GdPWv3E51kYA"
      },
      "execution_count": 73,
      "outputs": []
    },
    {
      "cell_type": "code",
      "source": [
        "labels = ['True Neg','False Pos','False Neg','True Pos']\n",
        "labels = np.asarray(labels).reshape(2,2)\n",
        "sns.heatmap(cf_matrix, annot=labels, fmt='', cmap='Blues')"
      ],
      "metadata": {
        "colab": {
          "base_uri": "https://localhost:8080/",
          "height": 942
        },
        "id": "SVyQjGvk1jay",
        "outputId": "cb92e063-c30b-4e6e-e59c-69a2a42e134d"
      },
      "execution_count": 74,
      "outputs": [
        {
          "output_type": "execute_result",
          "data": {
            "text/plain": [
              "<matplotlib.axes._subplots.AxesSubplot at 0x7feb9fb96c90>"
            ]
          },
          "metadata": {},
          "execution_count": 74
        },
        {
          "output_type": "display_data",
          "data": {
            "text/plain": [
              "<Figure size 1800x1152 with 2 Axes>"
            ],
            "image/png": "[encoded data removed]"
          },
          "metadata": {}
        }
      ]
    },
    {
      "cell_type": "markdown",
      "source": [
        "Vemos que este modelo nos da valores falsos positivos al igual que verdaderos negativos."
      ],
      "metadata": {
        "id": "FkXRNOUC12gb"
      }
    },
    {
      "cell_type": "markdown",
      "source": [
        "# Realizamos una gráfica ROC\n",
        "\n",
        "\n"
      ],
      "metadata": {
        "id": "oJy7eVkuSNnL"
      }
    },
    {
      "cell_type": "code",
      "source": [
        "y_pred_proba = lg_model.predict_proba(x_test)[::,1]\n",
        "fpr, tpr, _ = metrics.roc_curve(y_test,  y_pred_proba)\n",
        "auc = metrics.roc_auc_score(y_test, y_pred_proba)\n",
        "plt.plot(fpr,tpr,label=\"data 1, auc=\"+str(auc))\n",
        "plt.legend(loc=4)\n",
        "plt.show()"
      ],
      "metadata": {
        "colab": {
          "base_uri": "https://localhost:8080/",
          "height": 920
        },
        "id": "ZQxMUXwBWcWq",
        "outputId": "a8477a00-2131-48b3-8ee6-2ee5b53d3769"
      },
      "execution_count": 75,
      "outputs": [
        {
          "output_type": "display_data",
          "data": {
            "text/plain": [
              "<Figure size 1800x1152 with 1 Axes>"
            ],
            "image/png": "[encoded data removed]"
          },
          "metadata": {}
        }
      ]
    },
    {
      "cell_type": "markdown",
      "source": [
        "La puntuación AUC para el caso es 0,80. La puntuación AUC 1 representa un clasificador perfecto y 0,5 representa un clasificador sin valor."
      ],
      "metadata": {
        "id": "wgb-RB6uZwZi"
      }
    },
    {
      "cell_type": "markdown",
      "source": [
        "# Se calculan las medias de varianza y de bias encontradas en el modelo"
      ],
      "metadata": {
        "id": "xyb6KuqvSj9O"
      }
    },
    {
      "cell_type": "code",
      "source": [
        "mse, bias, variance = bias_variance_decomp(lg_model, x_train, y_train, x_test, y_test, \n",
        "                                           loss='mse', num_rounds=200, random_seed=None)\n",
        "print(\"Average Bias : \", bias)\n",
        "print(\"Average Variance : \", variance)"
      ],
      "metadata": {
        "colab": {
          "base_uri": "https://localhost:8080/"
        },
        "id": "vlJtUxVNcXY2",
        "outputId": "d6681dec-e48b-4572-fc48-215e1d56de16"
      },
      "execution_count": 76,
      "outputs": [
        {
          "output_type": "stream",
          "name": "stdout",
          "text": [
            "Average Bias :  0.1900583333333333\n",
            "Average Variance :  0.14494166666666666\n"
          ]
        }
      ]
    },
    {
      "cell_type": "markdown",
      "source": [
        "Vemos que existe un **bias alto relativo** en comparación con la varianza, más que nada debido a que estamos utilizando una regresión logística. El valor de la **varianza es relativamente poco**, ya que la suma de cuadrados es similar a diferentes datasets. Esto refleja que nuestro modelo dará buenas predicciones, más no excelentes. Además, refleja un **underfitting**, ya que el bias es alto en comparación con la varianza, lo que significa que el modelo no es lo suficientemente complejo como para capturar bien el patrón en los datos de entrenamiento y, por lo tanto, también sufre de bajo rendimiento en datos no vistos. "
      ],
      "metadata": {
        "id": "kIn27-rrSs8E"
      }
    },
    {
      "cell_type": "markdown",
      "source": [
        "# Mejora del modelo"
      ],
      "metadata": {
        "id": "jciKico4UZ0g"
      }
    },
    {
      "cell_type": "markdown",
      "source": [
        "Debido a que es regresión logística, realmente no se tienen hiperparámetros críticos para ajustar. (Gusarov, 2022). A veces, pueden ver diferencias útiles al modificar los diferentes solucionadores (solver). De los que se encuentran en scikit learn;  ['newton-cg', 'lbfgs', 'liblinear', 'sag', 'saga']. En nuestro caso se probaron todos y ‘newton-cg’ nos dio el mejor resultado.\n",
        "\n",
        "Uno de los otros parametros importantes para la mejora del modelo son la penalización (o regularización) que pretende reducir el error de generalización del modelo y pretende desincentivar y regular el overfitting. En nuestro caso, no tenemos overfitting, sino underfitting, por lo cual se descarta. Sin embargo, se modificó el dataset para mejorar nuestras predicciones.\n",
        "\n",
        "Se realizó un GridSearch con ayuda de la librería de scikit learn para él tuneo de hiperparámetros; sin embargo, no mejoro el modelo. \n",
        "\n",
        "\n"
      ],
      "metadata": {
        "id": "_PGcZEeWWhzM"
      }
    },
    {
      "cell_type": "code",
      "source": [
        "sns.set(rc = {'figure.figsize':(25,16)})\n",
        "sns.heatmap(df.corr(), annot=True, cmap= 'YlGnBu')"
      ],
      "metadata": {
        "colab": {
          "base_uri": "https://localhost:8080/",
          "height": 942
        },
        "id": "SsifZXJlUr4u",
        "outputId": "65e2a7b3-ebf6-45d1-fbf3-286f8a3e4b7f"
      },
      "execution_count": 77,
      "outputs": [
        {
          "output_type": "execute_result",
          "data": {
            "text/plain": [
              "<matplotlib.axes._subplots.AxesSubplot at 0x7feb9f23a850>"
            ]
          },
          "metadata": {},
          "execution_count": 77
        },
        {
          "output_type": "display_data",
          "data": {
            "text/plain": [
              "<Figure size 1800x1152 with 2 Axes>"
            ],
            "image/png": "[encoded data removed]"
          },
          "metadata": {}
        }
      ]
    },
    {
      "cell_type": "markdown",
      "source": [
        "Removemos variables con poca correlación con respecto a la \"y\" (sexo). Por ejemplo las variables de taill, con un valor de -0.03 y belly con un valor de -0.09."
      ],
      "metadata": {
        "id": "VcvCTc8qooFP"
      }
    },
    {
      "cell_type": "code",
      "source": [
        "sex = df.sex\n",
        "sex = sex.values\n",
        "X_new = df[[\"site\",\"Pop\",\"hdlngth\",\"skullw\",\"totlngth\",\"footlgth\",\"earconch\",\"eye\",\"chest\"]]\n",
        "X_new = X_new.values"
      ],
      "metadata": {
        "id": "md6UmhKnonNo"
      },
      "execution_count": 78,
      "outputs": []
    },
    {
      "cell_type": "markdown",
      "source": [
        "# Separamos el dataset en (Train/Test/Validation)."
      ],
      "metadata": {
        "id": "WwF-_SIvU0sR"
      }
    },
    {
      "cell_type": "code",
      "source": [
        "from sklearn.model_selection import train_test_split\n",
        "x_new_train,x_new_test,y_new_train,y_new_test = train_test_split(X_new, sex, test_size = 0.2, random_state = 7)"
      ],
      "metadata": {
        "id": "ZpzmR03kppsP"
      },
      "execution_count": 79,
      "outputs": []
    },
    {
      "cell_type": "markdown",
      "source": [
        "# Se genera el modelo"
      ],
      "metadata": {
        "id": "JoV3TIwDU306"
      }
    },
    {
      "cell_type": "code",
      "source": [
        "# get the rf object\n",
        "lg_model_final = LogisticRegression(solver='newton-cg',random_state=16)\n",
        "\n",
        "\n",
        "# fit the same base model\n",
        "lg_model_final.fit(x_new_train, y_new_train)\n",
        "\n",
        "# prediction\n",
        "lg_pred_final = lg_model_final.predict(x_new_test)"
      ],
      "metadata": {
        "id": "3kF9FT3YpqaQ"
      },
      "execution_count": 80,
      "outputs": []
    },
    {
      "cell_type": "markdown",
      "source": [
        "# Predicciones"
      ],
      "metadata": {
        "id": "PuN5sRH7ujEl"
      }
    },
    {
      "cell_type": "code",
      "source": [
        "print(\"Valores de test: \", y_new_test)\n",
        "print(\"Predicciones   : \", lg_pred_final)"
      ],
      "metadata": {
        "colab": {
          "base_uri": "https://localhost:8080/"
        },
        "id": "byisgW7muiWy",
        "outputId": "febb8332-8c2b-4e59-91c8-84274f39e95b"
      },
      "execution_count": 81,
      "outputs": [
        {
          "output_type": "stream",
          "name": "stdout",
          "text": [
            "Valores de test:  [1 0 0 1 0 1 1 1 1 0 1 1 1 1 1 1 0 0 0 0 1]\n",
            "Predicciones   :  [1 0 0 1 1 0 1 1 1 0 1 0 1 1 1 1 0 0 0 1 1]\n"
          ]
        }
      ]
    },
    {
      "cell_type": "markdown",
      "source": [
        "# Descripción de resultados; vemos que la precisión general se encuentra en 0.81, una mejora de 10% en comparación al modelo anterior."
      ],
      "metadata": {
        "id": "xIxGfxQTU6_z"
      }
    },
    {
      "cell_type": "code",
      "source": [
        "from sklearn.metrics import classification_report\n",
        "target_names = ['Male', 'Female']\n",
        "print(classification_report(y_new_test, lg_pred_final, target_names=target_names))"
      ],
      "metadata": {
        "colab": {
          "base_uri": "https://localhost:8080/"
        },
        "id": "xgVtsWHFpvFS",
        "outputId": "b9eeb396-5551-4f95-d495-e6e0615d97a6"
      },
      "execution_count": 82,
      "outputs": [
        {
          "output_type": "stream",
          "name": "stdout",
          "text": [
            "              precision    recall  f1-score   support\n",
            "\n",
            "        Male       0.75      0.75      0.75         8\n",
            "      Female       0.85      0.85      0.85        13\n",
            "\n",
            "    accuracy                           0.81        21\n",
            "   macro avg       0.80      0.80      0.80        21\n",
            "weighted avg       0.81      0.81      0.81        21\n",
            "\n"
          ]
        }
      ]
    },
    {
      "cell_type": "code",
      "source": [
        "cf_matrix_new = confusion_matrix(y_new_test, lg_pred_final)"
      ],
      "metadata": {
        "id": "vqDOf6Nm0qDb"
      },
      "execution_count": 83,
      "outputs": []
    },
    {
      "cell_type": "code",
      "source": [
        "labels = ['True Neg','False Pos','False Neg','True Pos']\n",
        "labels = np.asarray(labels).reshape(2,2)\n",
        "sns.heatmap(cf_matrix_new, annot=labels, fmt='', cmap='Blues')"
      ],
      "metadata": {
        "colab": {
          "base_uri": "https://localhost:8080/",
          "height": 942
        },
        "id": "FLcsWySG0mfh",
        "outputId": "a2c74019-36b0-4bf3-f382-670263d94297"
      },
      "execution_count": 84,
      "outputs": [
        {
          "output_type": "execute_result",
          "data": {
            "text/plain": [
              "<matplotlib.axes._subplots.AxesSubplot at 0x7feb9fb4cf10>"
            ]
          },
          "metadata": {},
          "execution_count": 84
        },
        {
          "output_type": "display_data",
          "data": {
            "text/plain": [
              "<Figure size 1800x1152 with 2 Axes>"
            ],
            "image/png": "[encoded data removed]"
          },
          "metadata": {}
        }
      ]
    },
    {
      "cell_type": "markdown",
      "source": [
        "Se mejora el modelo y sus predicciones para cada tipo de clasificación. "
      ],
      "metadata": {
        "id": "8bLbe6Px2AkN"
      }
    },
    {
      "cell_type": "markdown",
      "source": [
        "# Realizamos una gráfica ROC y comparamos"
      ],
      "metadata": {
        "id": "p5VS2iV5VG7p"
      }
    },
    {
      "cell_type": "code",
      "source": [
        "y_pred_proba_new = lg_model_final.predict_proba(x_new_test)[::,1]\n",
        "fpr2, tpr2, _ = metrics.roc_curve(y_new_test,  y_pred_proba_new)\n",
        "auc2 = metrics.roc_auc_score(y_new_test, y_pred_proba_new)\n",
        "\n",
        "plt.plot(fpr,tpr,label=\"Model 1, auc=\"+str(auc))\n",
        "plt.legend(loc=4)\n",
        "plt.plot(fpr2,tpr2,label=\"Model 2, auc=\"+str(auc2))\n",
        "plt.legend(loc=4)\n",
        "plt.show()"
      ],
      "metadata": {
        "colab": {
          "base_uri": "https://localhost:8080/",
          "height": 920
        },
        "id": "3sFoSnsOpws0",
        "outputId": "6a85086e-0894-4061-c407-8788e8cb008c"
      },
      "execution_count": 85,
      "outputs": [
        {
          "output_type": "display_data",
          "data": {
            "text/plain": [
              "<Figure size 1800x1152 with 1 Axes>"
            ],
            "image/png": "[encoded data removed]"
          },
          "metadata": {}
        }
      ]
    },
    {
      "cell_type": "markdown",
      "source": [
        "La puntuación AUC para el caso es 0,85, una mejora de 5% en comparación del modelo anterior. La puntuación AUC 1 representa un clasificador perfecto y 0,5 representa un clasificador sin valor."
      ],
      "metadata": {
        "id": "OXp3Lp4hVKn_"
      }
    },
    {
      "cell_type": "code",
      "source": [
        "mse_new, bias_new, variance_new = bias_variance_decomp(lg_model_final, x_new_train, y_new_train, x_new_test, y_new_test, \n",
        "                                           loss='mse', num_rounds=200, random_seed=None)\n",
        "print(\"Model 1: Average Bias : \", bias)\n",
        "print(\"Model 1: Average Variance : \", variance)\n",
        "\n",
        "print(\"Model 2: Average Bias : \", bias_new)\n",
        "print(\"Model 2: Average Variance : \", variance_new)"
      ],
      "metadata": {
        "colab": {
          "base_uri": "https://localhost:8080/"
        },
        "id": "vgGEOs18pyN8",
        "outputId": "491c8ac2-1fbd-4527-84b9-a60f46a9616e"
      },
      "execution_count": 86,
      "outputs": [
        {
          "output_type": "stream",
          "name": "stdout",
          "text": [
            "Model 1: Average Bias :  0.1900583333333333\n",
            "Model 1: Average Variance :  0.14494166666666666\n",
            "Model 2: Average Bias :  0.15202261904761907\n",
            "Model 2: Average Variance :  0.13916785714285718\n"
          ]
        }
      ]
    },
    {
      "cell_type": "markdown",
      "source": [
        "Vemos que **el bias en general disminuyo** y que **no existió mucho cambio en la varianza**. Sin embargo, mejoro bastante el modelo en cuanto a precisión. (10 decimas). "
      ],
      "metadata": {
        "id": "Iye6Ep32nFm1"
      }
    },
    {
      "cell_type": "code",
      "source": [
        "from sklearn.linear_model import LogisticRegression\n",
        "from sklearn.model_selection import GridSearchCV\n",
        "param_grid_lr = {\n",
        "    'max_iter': [20, 50, 100, 200, 500, 1000],                      \n",
        "    'solver': ['newton-cg', 'lbfgs', 'liblinear', 'sag', 'saga'],   \n",
        "    'class_weight': ['balanced']                                    \n",
        "}\n",
        "logModel_grid = GridSearchCV(estimator=LogisticRegression(random_state=1234), param_grid=param_grid_lr, verbose=1, cv=10, n_jobs=-1)\n",
        "logModel_grid.fit(x_new_train, y_new_train)\n",
        "print(logModel_grid.best_estimator_)"
      ],
      "metadata": {
        "colab": {
          "base_uri": "https://localhost:8080/"
        },
        "id": "tGpQTbCLjHKo",
        "outputId": "76e2ab4d-d026-450a-8eaf-621d43187f3e"
      },
      "execution_count": 87,
      "outputs": [
        {
          "output_type": "stream",
          "name": "stdout",
          "text": [
            "Fitting 10 folds for each of 30 candidates, totalling 300 fits\n",
            "LogisticRegression(class_weight='balanced', max_iter=50, random_state=1234,\n",
            "                   solver='newton-cg')\n"
          ]
        }
      ]
    },
    {
      "cell_type": "code",
      "source": [
        "from sklearn.metrics import f1_score\n",
        "y_pred_tune = logModel_grid.predict(x_new_test)\n",
        "print(f1_score(y_new_test, y_pred_tune), \":Valor f1 con GridSearchCV\")\n",
        "print(f1_score(y_new_test, lg_pred_final) \"Valor f1 original\")"
      ],
      "metadata": {
        "colab": {
          "base_uri": "https://localhost:8080/"
        },
        "id": "dApFknl9j-Jl",
        "outputId": "a4a34735-dd0b-4954-e6a5-5f7ae9a1d641"
      },
      "execution_count": 90,
      "outputs": [
        {
          "output_type": "stream",
          "name": "stdout",
          "text": [
            "0.7826086956521738 : is the f1 score\n",
            "0.8461538461538461\n"
          ]
        }
      ]
    },
    {
      "cell_type": "markdown",
      "source": [
        "Se realizó un GridSearch con ayuda de la librería de scikit learn para él tuneo de hiperparámetros; sin embargo, no mejoro el modelo. "
      ],
      "metadata": {
        "id": "Zr6Wl_gom0qA"
      }
    },
    {
      "cell_type": "markdown",
      "source": [
        "# Referencias\n",
        "\n",
        "Gusarov, M. (2022, 24 abril). Do I need to tune logistic regression hyperparameters? Medium. Recuperado 12 de septiembre de 2022, de https://medium.com/codex/do-i-need-to-tune-logistic-regression-hyperparameters-1cb2b81fca69"
      ],
      "metadata": {
        "id": "nfswoZlsugRz"
      }
    }
  ]
}